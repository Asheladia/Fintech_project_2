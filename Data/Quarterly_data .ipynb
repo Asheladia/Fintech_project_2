{
 "cells": [
  {
   "cell_type": "code",
   "execution_count": null,
   "metadata": {},
   "outputs": [],
   "source": [
    "from dotenv import load_dotenv\n",
    "import os\n",
    "import pandas as pd\n",
    "import altair as alt\n",
    "import alpaca_trade_api as tradeapi\n",
    "import requests\n",
    "import json\n",
    "import time\n",
    "load_dotenv(dotenv_path=\"Api_keys.env\")"
   ]
  },
  {
   "cell_type": "code",
   "execution_count": 29,
   "metadata": {},
   "outputs": [
    {
     "data": {
      "text/plain": [
       "'UACKLUCYFFCOTJ55'"
      ]
     },
     "execution_count": 29,
     "metadata": {},
     "output_type": "execute_result"
    }
   ],
   "source": [
    "key = os.getenv(\"alphavantage\")\n",
    "key"
   ]
  },
  {
   "cell_type": "code",
   "execution_count": null,
   "metadata": {},
   "outputs": [],
   "source": [
    "   # tickers to gather data for\n",
    "# separated by industry\n",
    "corp_list = [ \"AAL\",\"XOM\", \"PFE\"]\n",
    "\n",
    "\n",
    "for symbol in corp_list:\n",
    "    # makes request to alphavantage to get fundamental data\n",
    "    content = requests.get(url= \"https://www.alphavantage.co/query?\",  params = {\"function\":\"BALANCE_SHEET\", \"symbol\": symbol, \"apikey\": key})\n",
    "    data = content.json()\n",
    "data"
   ]
  },
  {
   "cell_type": "code",
   "execution_count": 24,
   "metadata": {},
   "outputs": [
    {
     "data": {
      "text/plain": [
       "'Corporations/PFE_quarterly_reports.csv'"
      ]
     },
     "execution_count": 24,
     "metadata": {},
     "output_type": "execute_result"
    }
   ],
   "source": [
    " # convert request json to dataframe\n",
    "data_test = data['quarterlyReports']\n",
    "df = pd.DataFrame.from_dict(data_test)\n",
    "df.set_index('fiscalDateEnding', inplace=True)\n",
    "file_name = f'Corporations/{symbol}_quarterly_reports.csv'\n",
    "df.to_csv(file_name)\n",
    "file_name\n"
   ]
  },
  {
   "cell_type": "code",
   "execution_count": 25,
   "metadata": {},
   "outputs": [],
   "source": [
    "Tech_list = [\"AAPL\",\"AMZN\",\"FB\"]\n",
    "for symbol in Tech_list:\n",
    "    # makes request to alphavantage to get fundamental data\n",
    "    content = requests.get(url= \"https://www.alphavantage.co/query?\",  params = {\"function\":\"BALANCE_SHEET\", \"symbol\": symbol, \"apikey\": key})\n",
    "    data = content.json()\n",
    "# convert request json to dataframe\n",
    "    data_test = data['quarterlyReports']\n",
    "    df = pd.DataFrame.from_dict(data_test)\n",
    "    df.set_index('fiscalDateEnding', inplace=True)\n",
    "    file_name = f'Tech/{symbol}_quarterly_reports.csv'\n",
    "    df.to_csv(file_name)\n",
    "    file_name"
   ]
  },
  {
   "cell_type": "code",
   "execution_count": 27,
   "metadata": {},
   "outputs": [
    {
     "name": "stdout",
     "output_type": "stream",
     "text": [
      "AAPL:\n",
      "               close      high       low\n",
      "date                                    \n",
      "2019-03-29  189.9500  197.6900  169.5000\n",
      "2019-06-28  197.9200  201.5700  170.2700\n",
      "2019-09-30  223.9700  226.4200  204.2200\n",
      "2019-12-31  293.6500  293.9700  256.2900\n",
      "2020-03-31  254.2900  304.0000  212.6100\n",
      "2020-06-30  364.8000  372.3800  317.2100\n",
      "2020-09-30  115.8100  137.9800  103.1000\n",
      "2020-12-31  132.6900  138.7890  120.0100\n",
      "---\n",
      "close    126.6000\n",
      "high     133.6116\n",
      "low      126.3820\n",
      "Name: 2021-01-06, dtype: object\n",
      "AAL:\n",
      "              close     high      low\n",
      "date                                 \n",
      "2019-04-30  34.1800  35.2400  31.7000\n",
      "2019-07-31  30.5100  34.9900  30.2100\n",
      "2019-10-31  30.0600  31.6700  24.5100\n",
      "2020-01-31  26.8400  29.2950  25.3700\n",
      "2020-04-30  12.0100  13.4000   9.0900\n",
      "2020-07-31  11.1200  14.2900  10.8000\n",
      "2020-10-30  11.2800  13.6800  10.6300\n",
      "2021-01-06  15.5200  15.8800  14.8700\n",
      "---\n",
      "close    15.5200\n",
      "high     15.8800\n",
      "low      14.8700\n",
      "Name: 2021-01-06, dtype: object\n",
      "AMZN:\n",
      "                close       high        low\n",
      "date                                       \n",
      "2019-03-29  1780.7500  1823.7500  1586.5700\n",
      "2019-06-28  1893.6300  1935.2000  1672.0000\n",
      "2019-09-30  1735.9100  1853.6600  1709.2200\n",
      "2019-12-31  1847.8400  1901.4000  1735.0000\n",
      "2020-03-31  1949.7200  1996.3300  1626.0300\n",
      "2020-06-30  2758.8200  2796.0000  2437.1300\n",
      "2020-09-30  3148.7300  3552.2500  2871.0000\n",
      "2020-12-31  3256.9300  3350.6500  3072.8200\n",
      "---\n",
      "close    3138.3800\n",
      "high     3272.0000\n",
      "low      3131.1600\n",
      "Name: 2021-01-06, dtype: object\n",
      "FB:\n",
      "               close      high       low\n",
      "date                                    \n",
      "2019-03-29  166.6900  174.3000  159.2800\n",
      "2019-06-28  193.0000  194.5300  160.8400\n",
      "2019-09-30  178.0800  193.1000  175.6600\n",
      "2019-12-31  205.2500  208.9300  193.1700\n",
      "2020-03-31  166.8000  197.2400  137.1006\n",
      "2020-06-30  227.0700  245.1853  207.1100\n",
      "2020-09-30  261.9000  303.6000  244.1300\n",
      "2020-12-31  273.1600  291.7800  264.6300\n",
      "---\n",
      "close    263.3100\n",
      "high     275.0000\n",
      "low      260.0100\n",
      "Name: 2021-01-06, dtype: object\n",
      "XOM:\n",
      "              close     high      low\n",
      "date                                 \n",
      "2019-03-29  80.8000  82.0000  77.8600\n",
      "2019-06-28  76.6300  77.7600  70.9700\n",
      "2019-09-30  70.6100  75.1800  67.6300\n",
      "2019-12-31  69.7800  70.5400  67.5200\n",
      "2020-03-31  37.9700  54.1500  30.1100\n",
      "2020-06-30  44.7200  55.3600  43.1600\n",
      "2020-09-30  34.3300  40.0300  33.7600\n",
      "2020-12-31  41.2200  44.4690  38.3400\n",
      "---\n",
      "close    44.6100\n",
      "high     45.1000\n",
      "low      41.0000\n",
      "Name: 2021-01-06, dtype: object\n",
      "KeyError. Trying again in 60 seconds...\n"
     ]
    },
    {
     "ename": "TypeError",
     "evalue": "'Response' object is not subscriptable",
     "output_type": "error",
     "traceback": [
      "\u001b[1;31m---------------------------------------------------------------------------\u001b[0m",
      "\u001b[1;31mKeyError\u001b[0m                                  Traceback (most recent call last)",
      "\u001b[1;32m<ipython-input-27-acbd6288f6da>\u001b[0m in \u001b[0;36m<module>\u001b[1;34m\u001b[0m\n\u001b[0;32m      6\u001b[0m     \u001b[1;32mtry\u001b[0m\u001b[1;33m:\u001b[0m\u001b[1;33m\u001b[0m\u001b[1;33m\u001b[0m\u001b[0m\n\u001b[1;32m----> 7\u001b[1;33m         \u001b[0mstock_price\u001b[0m \u001b[1;33m=\u001b[0m \u001b[0mstock_price\u001b[0m\u001b[1;33m[\u001b[0m\u001b[1;34m'Monthly Adjusted Time Series'\u001b[0m\u001b[1;33m]\u001b[0m\u001b[1;33m\u001b[0m\u001b[1;33m\u001b[0m\u001b[0m\n\u001b[0m\u001b[0;32m      8\u001b[0m     \u001b[1;32mexcept\u001b[0m \u001b[0mKeyError\u001b[0m\u001b[1;33m:\u001b[0m\u001b[1;33m\u001b[0m\u001b[1;33m\u001b[0m\u001b[0m\n",
      "\u001b[1;31mKeyError\u001b[0m: 'Monthly Adjusted Time Series'",
      "\nDuring handling of the above exception, another exception occurred:\n",
      "\u001b[1;31mTypeError\u001b[0m                                 Traceback (most recent call last)",
      "\u001b[1;32m<ipython-input-27-acbd6288f6da>\u001b[0m in \u001b[0;36m<module>\u001b[1;34m\u001b[0m\n\u001b[0;32m     11\u001b[0m         stock_price = requests.get('https://www.alphavantage.co/query?', params={'function':'TIME_SERIES_MONTHLY_ADJUSTED','symbol':symbol,\n\u001b[0;32m     12\u001b[0m                                                                               'apikey':'Alpha_vantage_Api_key'})\n\u001b[1;32m---> 13\u001b[1;33m         \u001b[0mstock_price\u001b[0m \u001b[1;33m=\u001b[0m \u001b[0mstock_price\u001b[0m\u001b[1;33m[\u001b[0m\u001b[1;34m'Monthly Adjusted Time Series'\u001b[0m\u001b[1;33m]\u001b[0m\u001b[1;33m\u001b[0m\u001b[1;33m\u001b[0m\u001b[0m\n\u001b[0m\u001b[0;32m     14\u001b[0m     \u001b[0mdata\u001b[0m \u001b[1;33m=\u001b[0m \u001b[1;33m{\u001b[0m\u001b[1;33m}\u001b[0m\u001b[1;33m\u001b[0m\u001b[1;33m\u001b[0m\u001b[0m\n\u001b[0;32m     15\u001b[0m     \u001b[0mdate_list\u001b[0m \u001b[1;33m=\u001b[0m \u001b[1;33m[\u001b[0m\u001b[1;33m]\u001b[0m\u001b[1;33m\u001b[0m\u001b[1;33m\u001b[0m\u001b[0m\n",
      "\u001b[1;31mTypeError\u001b[0m: 'Response' object is not subscriptable"
     ]
    }
   ],
   "source": [
    "symbol_list = [\"AAPL\",\"AAL\",\"AMZN\", \"FB\",\"XOM\",\"PFE\"]\n",
    "for symbol in symbol_list:\n",
    "    stock_price = requests.get('https://www.alphavantage.co/query?', params={'function':'TIME_SERIES_MONTHLY_ADJUSTED','symbol':symbol,\n",
    "                                                                              'apikey':'Alpha_vantage_Api_key'})\n",
    "    stock_price = stock_price.json()\n",
    "    try:\n",
    "        stock_price = stock_price['Monthly Adjusted Time Series']\n",
    "    except KeyError:\n",
    "        print('KeyError. Trying again in 60 seconds...')  \n",
    "        time.sleep(60)\n",
    "        stock_price = requests.get('https://www.alphavantage.co/query?', params={'function':'TIME_SERIES_MONTHLY_ADJUSTED','symbol':symbol,\n",
    "                                                                              'apikey':'Alpha_vantage_Api_key'})\n",
    "        stock_price = stock_price['Monthly Adjusted Time Series']\n",
    "    data = {}\n",
    "    date_list = []\n",
    "    close_list = []\n",
    "    # Added high list and low list\n",
    "    high_list = []\n",
    "    low_list = []\n",
    "    for date in stock_price:\n",
    "        data[date] = stock_price[date]['4. close']\n",
    "        date_list.append(date)\n",
    "        close_list.append(stock_price[date]['4. close'])\n",
    "        # Take high and low from the data pulled in\n",
    "        high_list.append(stock_price[date]['2. high'])\n",
    "        low_list.append(stock_price[date]['3. low'])\n",
    "    # Added high and low columns into our data for cleaning and formating \n",
    "    data = {'date': date_list, 'close': close_list, 'high': high_list, 'low': low_list}\n",
    "    price_df = pd.DataFrame.from_dict(data)\n",
    "    price_df.columns = ['date', 'close', 'high', 'low']\n",
    "    price_df.set_index('date', inplace=True)\n",
    "    price_df_ascending = price_df.sort_values(by=\"date\", ascending=True)\n",
    "    price_df_average = price_df_ascending.rolling(3).mean() \n",
    "    price_df_average = price_df_ascending.iloc[::3, :].truncate(before = \"2019-03-29\")\n",
    "    final_month = price_df_ascending.iloc[-1] # we wanna append final_month to price_df_average\n",
    "    price_df_average.append(final_month) \n",
    "    file_name = f'Prices/{symbol}.csv'\n",
    "    price_df.to_csv(file_name)\n",
    "    print(f'{symbol}:')\n",
    "    print(price_df_average)\n",
    "    print('---')\n",
    "    print(final_month)"
   ]
  },
  {
   "cell_type": "code",
   "execution_count": null,
   "metadata": {},
   "outputs": [],
   "source": []
  }
 ],
 "metadata": {
  "kernelspec": {
   "display_name": "Python [conda env:alpacaenv] *",
   "language": "python",
   "name": "conda-env-alpacaenv-py"
  },
  "language_info": {
   "codemirror_mode": {
    "name": "ipython",
    "version": 3
   },
   "file_extension": ".py",
   "mimetype": "text/x-python",
   "name": "python",
   "nbconvert_exporter": "python",
   "pygments_lexer": "ipython3",
   "version": "3.7.7"
  }
 },
 "nbformat": 4,
 "nbformat_minor": 4
}
