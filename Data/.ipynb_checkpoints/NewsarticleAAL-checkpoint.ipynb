{
 "cells": [
  {
   "cell_type": "code",
   "execution_count": 51,
   "metadata": {},
   "outputs": [
    {
     "data": {
      "text/plain": [
       "True"
      ]
     },
     "execution_count": 51,
     "metadata": {},
     "output_type": "execute_result"
    }
   ],
   "source": [
    "\n",
    "import os\n",
    "import nltk\n",
    "import pandas as pd\n",
    "from datetime import datetime, timedelta\n",
    "from dotenv import load_dotenv\n",
    "analyzer = SentimentIntensityAnalyzer()\n",
    "import alpaca_trade_api as tradeapi\n",
    "from newsapi.newsapi_client import NewsApiClient\n",
    "from nltk.sentiment.vader import SentimentIntensityAnalyzer\n",
    "import hvplot.pandas\n",
    "%matplotlib inline\n",
    "# Load .env enviroment variables\n",
    "load_dotenv()\n"
   ]
  },
  {
   "cell_type": "code",
   "execution_count": 52,
   "metadata": {},
   "outputs": [],
   "source": [
    "# Reading the News API key enviroment variable\n",
    "api_key = os.getenv(\"Api_keys.env\")"
   ]
  },
  {
   "cell_type": "code",
   "execution_count": 53,
   "metadata": {},
   "outputs": [],
   "source": [
    "\n",
    "\n",
    "# Set News API Key\n",
    "#newsapi = NewsApiClient(api_key=os.environ[\"news_api\"])\n",
    "\n",
    "# Set Alpaca API key and secret\n",
    "alpaca_api_key = os.getenv(\"ALPACA_API_KEY\")\n",
    "alpaca_secret_key = os.getenv(\"ALPACA_SECRET_KEY\")\n",
    "\n",
    "#api = tradeapi.REST(alpaca_api_key, alpaca_secret_key, api_version='v2')"
   ]
  },
  {
   "cell_type": "code",
   "execution_count": 54,
   "metadata": {},
   "outputs": [
    {
     "data": {
      "text/plain": [
       "'22b1baf9e3d84f549a60cd9ca7881995'"
      ]
     },
     "execution_count": 54,
     "metadata": {},
     "output_type": "execute_result"
    }
   ],
   "source": [
    "load_dotenv(dotenv_path=\"Api_keys.env\")\n",
    "api_key = os.getenv(\"news_api\")\n",
    "api_key"
   ]
  },
  {
   "cell_type": "code",
   "execution_count": 55,
   "metadata": {},
   "outputs": [
    {
     "data": {
      "text/plain": [
       "<newsapi.newsapi_client.NewsApiClient at 0x1d08867aa08>"
      ]
     },
     "execution_count": 55,
     "metadata": {},
     "output_type": "execute_result"
    }
   ],
   "source": [
    "newsapi = NewsApiClient(api_key=api_key)\n",
    "newsapi"
   ]
  },
  {
   "cell_type": "code",
   "execution_count": 59,
   "metadata": {},
   "outputs": [
    {
     "data": {
      "text/html": [
       "<div>\n",
       "<style scoped>\n",
       "    .dataframe tbody tr th:only-of-type {\n",
       "        vertical-align: middle;\n",
       "    }\n",
       "\n",
       "    .dataframe tbody tr th {\n",
       "        vertical-align: top;\n",
       "    }\n",
       "\n",
       "    .dataframe thead th {\n",
       "        text-align: right;\n",
       "    }\n",
       "</style>\n",
       "<table border=\"1\" class=\"dataframe\">\n",
       "  <thead>\n",
       "    <tr style=\"text-align: right;\">\n",
       "      <th></th>\n",
       "      <th>author</th>\n",
       "      <th>content</th>\n",
       "      <th>description</th>\n",
       "      <th>publishedAt</th>\n",
       "      <th>source</th>\n",
       "      <th>title</th>\n",
       "      <th>url</th>\n",
       "      <th>urlToImage</th>\n",
       "    </tr>\n",
       "  </thead>\n",
       "  <tbody>\n",
       "    <tr>\n",
       "      <th>0</th>\n",
       "      <td>Pete Muntean</td>\n",
       "      <td>Washington (CNN Business)After air travel brok...</td>\n",
       "      <td>After air travel broke a pandemic record on We...</td>\n",
       "      <td>2020-12-25T13:41:29Z</td>\n",
       "      <td>{'id': 'cnn', 'name': 'CNN'}</td>\n",
       "      <td>Nearly a million people flew in America on Chr...</td>\n",
       "      <td>https://www.cnn.com/2020/12/25/business/tsa-ai...</td>\n",
       "      <td>https://cdn.cnn.com/cnnnext/dam/assets/2012231...</td>\n",
       "    </tr>\n",
       "    <tr>\n",
       "      <th>1</th>\n",
       "      <td>Claudia Assis</td>\n",
       "      <td>It was housekeeping day for JPMorgan analysts ...</td>\n",
       "      <td>United, JetBlue and Spirit shares get a downgr...</td>\n",
       "      <td>2020-12-16T17:53:00Z</td>\n",
       "      <td>{'id': None, 'name': 'MarketWatch'}</td>\n",
       "      <td>: United, JetBlue stocks get downgrades from J...</td>\n",
       "      <td>https://www.marketwatch.com/story/united-jetbl...</td>\n",
       "      <td>https://images.mktw.net/im-240768/social</td>\n",
       "    </tr>\n",
       "    <tr>\n",
       "      <th>2</th>\n",
       "      <td>Tim Dunn</td>\n",
       "      <td>As covid-19 continues to negatively impact the...</td>\n",
       "      <td>The covid-19 financial crisis facing airlines ...</td>\n",
       "      <td>2020-12-17T13:35:35Z</td>\n",
       "      <td>{'id': None, 'name': 'Seeking Alpha'}</td>\n",
       "      <td>American Airlines' Market Losses Will Aid Comp...</td>\n",
       "      <td>https://seekingalpha.com/article/4395151-ameri...</td>\n",
       "      <td>https://static.seekingalpha.com/uploads/2020/1...</td>\n",
       "    </tr>\n",
       "    <tr>\n",
       "      <th>3</th>\n",
       "      <td>Mark Vickery</td>\n",
       "      <td>Non-profit humanitarian agency World Vision Un...</td>\n",
       "      <td>American Airlines (AAL) put its first commerci...</td>\n",
       "      <td>2020-12-29T22:38:10Z</td>\n",
       "      <td>{'id': None, 'name': 'Yahoo Entertainment'}</td>\n",
       "      <td>Markets Can't Sustain Record Highs; 737 MAX Fl...</td>\n",
       "      <td>https://finance.yahoo.com/news/markets-cant-su...</td>\n",
       "      <td>https://s.yimg.com/uu/api/res/1.2/nYSrGTfdEN.B...</td>\n",
       "    </tr>\n",
       "    <tr>\n",
       "      <th>4</th>\n",
       "      <td>Zacks Equity Research</td>\n",
       "      <td>In the latest trading session, American Airlin...</td>\n",
       "      <td>In the latest trading session, American Airlin...</td>\n",
       "      <td>2020-12-04T22:45:10Z</td>\n",
       "      <td>{'id': None, 'name': 'Yahoo Entertainment'}</td>\n",
       "      <td>American Airlines (AAL) Outpaces Stock Market ...</td>\n",
       "      <td>https://finance.yahoo.com/news/american-airlin...</td>\n",
       "      <td>https://s.yimg.com/uu/api/res/1.2/1r9UWHxWtEcp...</td>\n",
       "    </tr>\n",
       "  </tbody>\n",
       "</table>\n",
       "</div>"
      ],
      "text/plain": [
       "                  author                                            content  \\\n",
       "0           Pete Muntean  Washington (CNN Business)After air travel brok...   \n",
       "1          Claudia Assis  It was housekeeping day for JPMorgan analysts ...   \n",
       "2               Tim Dunn  As covid-19 continues to negatively impact the...   \n",
       "3           Mark Vickery  Non-profit humanitarian agency World Vision Un...   \n",
       "4  Zacks Equity Research  In the latest trading session, American Airlin...   \n",
       "\n",
       "                                         description           publishedAt  \\\n",
       "0  After air travel broke a pandemic record on We...  2020-12-25T13:41:29Z   \n",
       "1  United, JetBlue and Spirit shares get a downgr...  2020-12-16T17:53:00Z   \n",
       "2  The covid-19 financial crisis facing airlines ...  2020-12-17T13:35:35Z   \n",
       "3  American Airlines (AAL) put its first commerci...  2020-12-29T22:38:10Z   \n",
       "4  In the latest trading session, American Airlin...  2020-12-04T22:45:10Z   \n",
       "\n",
       "                                        source  \\\n",
       "0                 {'id': 'cnn', 'name': 'CNN'}   \n",
       "1          {'id': None, 'name': 'MarketWatch'}   \n",
       "2        {'id': None, 'name': 'Seeking Alpha'}   \n",
       "3  {'id': None, 'name': 'Yahoo Entertainment'}   \n",
       "4  {'id': None, 'name': 'Yahoo Entertainment'}   \n",
       "\n",
       "                                               title  \\\n",
       "0  Nearly a million people flew in America on Chr...   \n",
       "1  : United, JetBlue stocks get downgrades from J...   \n",
       "2  American Airlines' Market Losses Will Aid Comp...   \n",
       "3  Markets Can't Sustain Record Highs; 737 MAX Fl...   \n",
       "4  American Airlines (AAL) Outpaces Stock Market ...   \n",
       "\n",
       "                                                 url  \\\n",
       "0  https://www.cnn.com/2020/12/25/business/tsa-ai...   \n",
       "1  https://www.marketwatch.com/story/united-jetbl...   \n",
       "2  https://seekingalpha.com/article/4395151-ameri...   \n",
       "3  https://finance.yahoo.com/news/markets-cant-su...   \n",
       "4  https://finance.yahoo.com/news/american-airlin...   \n",
       "\n",
       "                                          urlToImage  \n",
       "0  https://cdn.cnn.com/cnnnext/dam/assets/2012231...  \n",
       "1           https://images.mktw.net/im-240768/social  \n",
       "2  https://static.seekingalpha.com/uploads/2020/1...  \n",
       "3  https://s.yimg.com/uu/api/res/1.2/nYSrGTfdEN.B...  \n",
       "4  https://s.yimg.com/uu/api/res/1.2/1r9UWHxWtEcp...  "
      ]
     },
     "execution_count": 59,
     "metadata": {},
     "output_type": "execute_result"
    }
   ],
   "source": [
    "corp_news = newsapi.get_everything(q=\"AAL\", language=\"en\")\n",
    "corp_news[\"totalResults\"]\n",
    "corp_df = pd.DataFrame.from_dict(corp_news[\"articles\"])\n",
    "corp_df.head()"
   ]
  },
  {
   "cell_type": "code",
   "execution_count": 69,
   "metadata": {},
   "outputs": [],
   "source": [
    "def get_news(company):\n",
    "    corp_news = newsapi.get_everything(q=company, language=\"en\")\n",
    "    corp_news[\"totalResults\"]\n",
    "    corp_df = pd.DataFrame.from_dict(company_news[\"articles\"])\n",
    "    corp_sentiments = []\n",
    "\n",
    "    for article in corp_news[\"articles\"]:\n",
    "        try:\n",
    "            text = article[\"content\"]\n",
    "            date = article[\"publishedAt\"][:10]\n",
    "            sentiment = analyzer.polarity_scores(text)\n",
    "            compound = sentiment[\"compound\"]\n",
    "            pos = sentiment[\"pos\"]\n",
    "            neu = sentiment[\"neu\"]\n",
    "            neg = sentiment[\"neg\"]\n",
    "            \n",
    "            corp_sentiments.append({\n",
    "                \"text\": text,\n",
    "                \"date\": date,\n",
    "                \"compound\": compound,\n",
    "                \"positive\": pos,\n",
    "                \"negative\": neg,\n",
    "                \"neutral\": neu\n",
    "                \n",
    "            })\n",
    "            \n",
    "        except AttributeError:\n",
    "            pass"
   ]
  },
  {
   "cell_type": "code",
   "execution_count": null,
   "metadata": {},
   "outputs": [],
   "source": [
    "# Create DataFrame\n",
    "company_df = pd.DataFrame(corp_sentiments)\n",
    "\n",
    "# Reorder DataFrame columns\n",
    "cols = [\"date\", \"text\", \"compound\", \"positive\", \"negative\", \"neutral\"]\n",
    "company_df = company_df[cols]\n",
    "company_df.sort_values(by=['date'], ascending=False, inplace=True)\n",
    "company_df.reset_index(inplace=True, drop=True)\n",
    "company_df = company_df.drop([\"text\", \"positive\", \"negative\", \"neutral\"], axis=1)\n",
    "company_df = company_df.set_index('date')\n",
    "\n",
    "return company_df"
   ]
  },
  {
   "cell_type": "code",
   "execution_count": null,
   "metadata": {},
   "outputs": [],
   "source": [
    "companies = [\"AAL\"]\n",
    "\n",
    "for company in companies:\n",
    "    print(company)\n",
    "    print(get_news(company))"
   ]
  },
  {
   "cell_type": "code",
   "execution_count": null,
   "metadata": {},
   "outputs": [],
   "source": []
  },
  {
   "cell_type": "code",
   "execution_count": null,
   "metadata": {},
   "outputs": [],
   "source": []
  }
 ],
 "metadata": {
  "kernelspec": {
   "display_name": "Python [conda env:alpacaenv] *",
   "language": "python",
   "name": "conda-env-alpacaenv-py"
  },
  "language_info": {
   "codemirror_mode": {
    "name": "ipython",
    "version": 3
   },
   "file_extension": ".py",
   "mimetype": "text/x-python",
   "name": "python",
   "nbconvert_exporter": "python",
   "pygments_lexer": "ipython3",
   "version": "3.7.7"
  }
 },
 "nbformat": 4,
 "nbformat_minor": 4
}
