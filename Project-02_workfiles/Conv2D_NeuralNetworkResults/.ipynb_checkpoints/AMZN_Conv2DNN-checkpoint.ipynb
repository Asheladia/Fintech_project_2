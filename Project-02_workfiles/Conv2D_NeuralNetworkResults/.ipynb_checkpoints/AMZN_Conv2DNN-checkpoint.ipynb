{
 "cells": [
  {
   "cell_type": "markdown",
   "metadata": {},
   "source": [
    "# Training a 2-D, Multivariate Convolutional Neural Network\n",
    "### The Necessary Imports"
   ]
  },
  {
   "cell_type": "code",
   "execution_count": 2,
   "metadata": {},
   "outputs": [
    {
     "name": "stdout",
     "output_type": "stream",
     "text": [
      " ...Loading Master Dictionary 85000\n",
      "Master Dictionary loaded from file: \n",
      "  LoughranMcDonald_MasterDictionary_2018.csv\n",
      "  86,486 words loaded in master_dictionary.\n",
      "\n"
     ]
    }
   ],
   "source": [
    "# Initial imports\n",
    "import numpy as np                                                              # for numpy tools\n",
    "import pandas as pd                                                             # for DataFrame tools\n",
    "from pathlib import Path                                                        # for writing paths to data files\n",
    "from TBAC  import StockScrub                                                    # This line tells python to import the class  \n",
    "import matplotlib.pyplot as plt                                      \n",
    "%matplotlib inline\n",
    "#import quandl\n",
    "#import requests\n",
    "import json\n",
    "import os\n",
    "#from GoogleNews import GoogleNews\n",
    "import tensorflow as tf                                                    # for construcing and analyzing neural networks\n",
    "import seaborn                                                                  # for customizing plot display settings\n",
    "seaborn.set_style('darkgrid', {'legend.frameon':True})                          # chaning the settings of the plotting grid"
   ]
  },
  {
   "cell_type": "markdown",
   "metadata": {},
   "source": [
    "### Reading in the Data Sets Used in Neural Networks"
   ]
  },
  {
   "cell_type": "code",
   "execution_count": 3,
   "metadata": {},
   "outputs": [
    {
     "data": {
      "text/html": [
       "<div>\n",
       "<style scoped>\n",
       "    .dataframe tbody tr th:only-of-type {\n",
       "        vertical-align: middle;\n",
       "    }\n",
       "\n",
       "    .dataframe tbody tr th {\n",
       "        vertical-align: top;\n",
       "    }\n",
       "\n",
       "    .dataframe thead th {\n",
       "        text-align: right;\n",
       "    }\n",
       "</style>\n",
       "<table border=\"1\" class=\"dataframe\">\n",
       "  <thead>\n",
       "    <tr style=\"text-align: right;\">\n",
       "      <th></th>\n",
       "      <th>close</th>\n",
       "      <th>volume</th>\n",
       "      <th>VIX</th>\n",
       "      <th>beta</th>\n",
       "      <th>number of words</th>\n",
       "      <th>% positive</th>\n",
       "      <th>% negative</th>\n",
       "      <th>% uncertainty</th>\n",
       "      <th>% litigious</th>\n",
       "      <th>% modal-weak</th>\n",
       "      <th>% modal moderate</th>\n",
       "      <th>% modal strong</th>\n",
       "      <th>% constraining</th>\n",
       "      <th>average word length</th>\n",
       "      <th>vocabulary</th>\n",
       "    </tr>\n",
       "  </thead>\n",
       "  <tbody>\n",
       "    <tr>\n",
       "      <th>2016-02-02</th>\n",
       "      <td>552.10</td>\n",
       "      <td>6312045.0</td>\n",
       "      <td>23.15</td>\n",
       "      <td>0.903946</td>\n",
       "      <td>0.0</td>\n",
       "      <td>0.0</td>\n",
       "      <td>0.0</td>\n",
       "      <td>0.0</td>\n",
       "      <td>0.0</td>\n",
       "      <td>0.0</td>\n",
       "      <td>0.0</td>\n",
       "      <td>0.0</td>\n",
       "      <td>0.0</td>\n",
       "      <td>0.0</td>\n",
       "      <td>0.0</td>\n",
       "    </tr>\n",
       "    <tr>\n",
       "      <th>2016-02-03</th>\n",
       "      <td>531.07</td>\n",
       "      <td>10048709.0</td>\n",
       "      <td>22.75</td>\n",
       "      <td>0.839545</td>\n",
       "      <td>0.0</td>\n",
       "      <td>0.0</td>\n",
       "      <td>0.0</td>\n",
       "      <td>0.0</td>\n",
       "      <td>0.0</td>\n",
       "      <td>0.0</td>\n",
       "      <td>0.0</td>\n",
       "      <td>0.0</td>\n",
       "      <td>0.0</td>\n",
       "      <td>0.0</td>\n",
       "      <td>0.0</td>\n",
       "    </tr>\n",
       "    <tr>\n",
       "      <th>2016-02-04</th>\n",
       "      <td>536.26</td>\n",
       "      <td>6199070.0</td>\n",
       "      <td>23.05</td>\n",
       "      <td>0.892078</td>\n",
       "      <td>0.0</td>\n",
       "      <td>0.0</td>\n",
       "      <td>0.0</td>\n",
       "      <td>0.0</td>\n",
       "      <td>0.0</td>\n",
       "      <td>0.0</td>\n",
       "      <td>0.0</td>\n",
       "      <td>0.0</td>\n",
       "      <td>0.0</td>\n",
       "      <td>0.0</td>\n",
       "      <td>0.0</td>\n",
       "    </tr>\n",
       "    <tr>\n",
       "      <th>2016-02-05</th>\n",
       "      <td>502.13</td>\n",
       "      <td>9708929.0</td>\n",
       "      <td>24.12</td>\n",
       "      <td>1.000250</td>\n",
       "      <td>0.0</td>\n",
       "      <td>0.0</td>\n",
       "      <td>0.0</td>\n",
       "      <td>0.0</td>\n",
       "      <td>0.0</td>\n",
       "      <td>0.0</td>\n",
       "      <td>0.0</td>\n",
       "      <td>0.0</td>\n",
       "      <td>0.0</td>\n",
       "      <td>0.0</td>\n",
       "      <td>0.0</td>\n",
       "    </tr>\n",
       "    <tr>\n",
       "      <th>2016-02-08</th>\n",
       "      <td>488.10</td>\n",
       "      <td>9825509.0</td>\n",
       "      <td>25.40</td>\n",
       "      <td>1.057428</td>\n",
       "      <td>0.0</td>\n",
       "      <td>0.0</td>\n",
       "      <td>0.0</td>\n",
       "      <td>0.0</td>\n",
       "      <td>0.0</td>\n",
       "      <td>0.0</td>\n",
       "      <td>0.0</td>\n",
       "      <td>0.0</td>\n",
       "      <td>0.0</td>\n",
       "      <td>0.0</td>\n",
       "      <td>0.0</td>\n",
       "    </tr>\n",
       "  </tbody>\n",
       "</table>\n",
       "</div>"
      ],
      "text/plain": [
       "             close      volume    VIX      beta  number of words  % positive  \\\n",
       "2016-02-02  552.10   6312045.0  23.15  0.903946              0.0         0.0   \n",
       "2016-02-03  531.07  10048709.0  22.75  0.839545              0.0         0.0   \n",
       "2016-02-04  536.26   6199070.0  23.05  0.892078              0.0         0.0   \n",
       "2016-02-05  502.13   9708929.0  24.12  1.000250              0.0         0.0   \n",
       "2016-02-08  488.10   9825509.0  25.40  1.057428              0.0         0.0   \n",
       "\n",
       "            % negative  % uncertainty  % litigious  % modal-weak  \\\n",
       "2016-02-02         0.0            0.0          0.0           0.0   \n",
       "2016-02-03         0.0            0.0          0.0           0.0   \n",
       "2016-02-04         0.0            0.0          0.0           0.0   \n",
       "2016-02-05         0.0            0.0          0.0           0.0   \n",
       "2016-02-08         0.0            0.0          0.0           0.0   \n",
       "\n",
       "            % modal moderate  % modal strong  % constraining  \\\n",
       "2016-02-02               0.0             0.0             0.0   \n",
       "2016-02-03               0.0             0.0             0.0   \n",
       "2016-02-04               0.0             0.0             0.0   \n",
       "2016-02-05               0.0             0.0             0.0   \n",
       "2016-02-08               0.0             0.0             0.0   \n",
       "\n",
       "            average word length  vocabulary  \n",
       "2016-02-02                  0.0         0.0  \n",
       "2016-02-03                  0.0         0.0  \n",
       "2016-02-04                  0.0         0.0  \n",
       "2016-02-05                  0.0         0.0  \n",
       "2016-02-08                  0.0         0.0  "
      ]
     },
     "execution_count": 3,
     "metadata": {},
     "output_type": "execute_result"
    }
   ],
   "source": [
    "# variables used for initial neural network\n",
    "stock_market_measures=['close','volume','VIX','beta']\n",
    "optimizer_custom = tf.keras.optimizers.Adam(lr=0.001)\n",
    "\n",
    "# creating StockScrub class object for Apple stock analysis\n",
    "my_stock=StockScrub([\"AMZN\"])                                                 \n",
    "#aa=StockScrub([\"AAL\"])    \n",
    "#amazon=StockScrub([\"AMZN\"])     \n",
    "#bitcoin=StockScrub([\"BTC\"])     \n",
    "#facebook=StockScrub([\"FB\"])    \n",
    "#pfizer=StockScrub([\"PFE\"])  \n",
    "#exxon=StockScrub([\"XOM\"])  \n",
    "#zoom=StockScrub([\"ZM\"])  \n",
    "\n",
    "\n",
    "### THIS SET OF DATA IS USED FOR THE 2D CONVOLUTIONAL NEURAL NETWORKS\n",
    "# combines data from stored DataFrames to be processed for training\n",
    "stock_df=my_stock.data_compile(start=\"2016-01-01\")                         \n",
    "#aa_df=aa.data_compile(start=\"2017-01-01\")                                     \n",
    "#amazon_df=amazon.data_compile(start=\"2017-01-01\")                                      \n",
    "#bitcoin_df=bitcoin.data_compile(start=\"2017-01-01\")                                      \n",
    "#facebook_df=facebook.data_compile(start=\"2019-01-01\")                                       \n",
    "#exxon_df=exxon.data_compile(start=\"2019-01-01\")                                       \n",
    "#zoom_df=zoom.data_compile(start=\"2019-01-01\")        \n",
    "stock_df.head()"
   ]
  },
  {
   "cell_type": "markdown",
   "metadata": {},
   "source": [
    "### Defining window function used to split the data and some initial parameter values"
   ]
  },
  {
   "cell_type": "code",
   "execution_count": 4,
   "metadata": {},
   "outputs": [],
   "source": [
    "# Our handy function for converting our dataset into the correct format\n",
    "\n",
    "def window_data(df, window, feature_col_number, target_col_number):\n",
    "    \"\"\"\n",
    "    This function accepts the column number for the features (X) and the target (y).\n",
    "    It chunks the data up with a rolling window of Xt - window to predict Xt.\n",
    "    It returns two numpy arrays of X and y.\n",
    "    \"\"\"\n",
    "    X = []                                                                       # initialize DataFrame for features\n",
    "    y = []                                                                       # initialize DataFrame for target\n",
    "    for i in range(len(df) - window - 1):                                        # generates list of indices from start until prior number of steps equal to the window\n",
    "        features = df.iloc[i : (i + window), feature_col_number].values          # extracting vectors from DataFrame for features\n",
    "        target = df.iloc[(i + window), target_col_number]                        # extracting observations from DataFrame for targets\n",
    "        X.append(features)                                                       # appending extracted vectors to new DataFrame\n",
    "        y.append(target)                                                         # appeding extracted observations to new DataFrame\n",
    "    return np.array(X), np.array(y).astype(np.float64).reshape(-1, 1)            # converting DataFrames to numpy arrays"
   ]
  },
  {
   "cell_type": "code",
   "execution_count": 5,
   "metadata": {},
   "outputs": [
    {
     "data": {
      "text/plain": [
       "(1233, 3)"
      ]
     },
     "execution_count": 5,
     "metadata": {},
     "output_type": "execute_result"
    }
   ],
   "source": [
    "# Creating the features (X) and target (y) data using the window_data() function.\n",
    "\n",
    "window_size = 3                                                                 # window size of 7 days (can adjust for different results)                                                                    # defining the column where you want to extract features\n",
    "feature=0                                                                       # specifying the feature column\n",
    "target_column = 0                                                               # defining the column where you want to extract targets\n",
    "X, y = window_data(stock_df, window_size, feature, target_column)                     # splitting DataFrame into features and targets\n",
    "X.shape                                                                         # gives shape of feature DataFrame"
   ]
  },
  {
   "cell_type": "markdown",
   "metadata": {},
   "source": [
    "### Using Previously Defined Window Function on Remaining Features"
   ]
  },
  {
   "cell_type": "code",
   "execution_count": 6,
   "metadata": {},
   "outputs": [],
   "source": [
    "\n",
    "\n",
    "\n",
    "# FOR DATA WITHOUT SENTIMENT SCORES\n",
    "(volume_data, _) = window_data(stock_df, window_size, 1, 0)                           # reshaping volume data\n",
    "(VIX_data, _) = window_data(stock_df, window_size, 2, 0)                              # reshaping VIX data\n",
    "(beta_data, _) = window_data(stock_df, window_size, 3, 0)                             # reshaping beta data\n",
    "\n",
    "# FOR DATA WITH SENTIMENT SCORES\n",
    "(pos_data, _) = window_data(stock_df, window_size, 5, 0)                              # reshaping positive data\n",
    "(neg_data, _) = window_data(stock_df, window_size, 6, 0)                              # reshaping negative data\n",
    "(uncertain_data, _) = window_data(stock_df, window_size, 7, 0)                        # reshaping uncertainty data\n",
    "(lit_data, _) = window_data(stock_df, window_size, 8, 0)                              # reshaping litigious data\n",
    "(mw_data, _) = window_data(stock_df, window_size, 9, 0)                               # reshaping modal weak data\n",
    "(mm_data, _) = window_data(stock_df, window_size, 10, 0)                              # reshaping modal moderate data\n",
    "(ms_data, _) = window_data(stock_df, window_size, 11, 0)                              # reshaping modal strong data\n",
    "(constrain_data, _) = window_data(stock_df, window_size, 12, 0)                       # reshaping constraining data\n",
    "\n",
    "\n",
    "\n",
    "\n",
    "\n",
    "\n",
    "\n",
    "\n"
   ]
  },
  {
   "cell_type": "markdown",
   "metadata": {},
   "source": [
    "### Standardizing and Splitting the Data"
   ]
  },
  {
   "cell_type": "code",
   "execution_count": 7,
   "metadata": {},
   "outputs": [
    {
     "data": {
      "text/plain": [
       "(247, 1)"
      ]
     },
     "execution_count": 7,
     "metadata": {},
     "output_type": "execute_result"
    }
   ],
   "source": [
    "from sklearn.preprocessing import StandardScaler                                # importing the StandardScaler\n",
    "scaler = StandardScaler()                                                       # create an instance to scale the data\n",
    "\n",
    "# standardizing features of data\n",
    "X = scaler.fit_transform(X)                                                     # standardizing previous prices\n",
    "volume_data = scaler.fit_transform(volume_data)                                 # standardizing volume data\n",
    "VIX_data = scaler.fit_transform(VIX_data)                                       # standardizing VIX data\n",
    "beta_data = scaler.fit_transform(beta_data)                                     # standardizing beta data\n",
    "\n",
    "# standardizing sentiment features\n",
    "pos_data = scaler.fit_transform(pos_data)                                       # standardizing pos data\n",
    "neg_data = scaler.fit_transform(neg_data)                                       # standardizing neg data\n",
    "uncertain_data = scaler.fit_transform(uncertain_data)                           # standardizing uncertain data\n",
    "lit_data = scaler.fit_transform(lit_data)                                       # standardizing lit data\n",
    "mw_data = scaler.fit_transform(mw_data)                                         # standardizing mw data\n",
    "mm_data = scaler.fit_transform(mm_data)                                         # standardizing mm data\n",
    "ms_data = scaler.fit_transform(ms_data)                                         # standardizing ms data\n",
    "constrain_data = scaler.fit_transform(constrain_data)                           # standardizing constrain data\n",
    "\n",
    "\n",
    "\n",
    "split = int(0.8 * len(X))                                                       # defining the splitting training and test sets 80/20 split \n",
    "\n",
    "\n",
    "# getting training sets from data\n",
    "X_train = X[: split - 1]                                                         \n",
    "VIX_data_train =  VIX_data[ : split - 1]                                        \n",
    "volume_data_train =  volume_data[ : split - 1] \n",
    "beta_data_train =  beta_data[ : split - 1] \n",
    "\n",
    "pos_data_train =  pos_data[ : split - 1]    \n",
    "neg_data_train =  neg_data[ : split - 1]    \n",
    "uncertain_data_train =  uncertain_data[ : split - 1]    \n",
    "lit_data_train =  lit_data[ : split - 1]    \n",
    "mw_data_train =  mw_data[ : split - 1]    \n",
    "mm_data_train =  mm_data[ : split - 1]    \n",
    "ms_data_train =  ms_data[ : split - 1]    \n",
    "constrain_data_train =  constrain_data[ : split - 1]      \n",
    "\n",
    "\n",
    "\n",
    "# getting testing sets from data\n",
    "X_test = X[split:]         \n",
    "VIX_data_test = VIX_data[ split :]\n",
    "volume_data_test = volume_data[ split :]\n",
    "beta_data_test = beta_data[ split :]\n",
    "\n",
    "pos_data_test =  pos_data[ split : ]\n",
    "neg_data_test =  neg_data[ split : ]\n",
    "uncertain_data_test =  uncertain_data[split : ]\n",
    "lit_data_test =  lit_data[ split : ]\n",
    "mw_data_test =  mw_data[split : ]\n",
    "mm_data_test =  mm_data[split : ]\n",
    "ms_data_test =  ms_data[split : ]\n",
    "constrain_data_test =  constrain_data[split : ]\n",
    "\n",
    "\n",
    "# splitting target data into testing and training sets\n",
    "y_train = y[: split - 1]                                             \n",
    "y_test = y[split:]\n",
    "y_test.shape"
   ]
  },
  {
   "cell_type": "markdown",
   "metadata": {},
   "source": [
    "### Reshaping the Training and Testing Sets\n",
    "#### now that we've split all the features into training and testing data, we combine these sets into one large training set and one large testing set"
   ]
  },
  {
   "cell_type": "code",
   "execution_count": 8,
   "metadata": {},
   "outputs": [
    {
     "data": {
      "text/plain": [
       "(985, 3, 1)"
      ]
     },
     "execution_count": 8,
     "metadata": {},
     "output_type": "execute_result"
    }
   ],
   "source": [
    "######################################.        RESHAPING THE DATA SETS.             ########################################################\n",
    "###############\n",
    "###################### TRAINING DATA\n",
    "##############\n",
    "# Reshaping training data: Dimension representations=(samples, time steps, features)\n",
    "X_train = X_train.reshape((X_train.shape[0], X_train.shape[1], 1))\n",
    "volume_data_train = volume_data_train.reshape((volume_data_train.shape[0], volume_data_train.shape[1], 1))\n",
    "VIX_data_train = VIX_data_train.reshape((VIX_data_train.shape[0], VIX_data_train.shape[1], 1))\n",
    "beta_data_train = beta_data_train.reshape((beta_data_train.shape[0], beta_data_train.shape[1], 1))\n",
    "\n",
    "\n",
    "#Training Data For Sentiment Features\n",
    "pos_data_train = pos_data_train.reshape((pos_data_train.shape[0], pos_data_train.shape[1], 1))\n",
    "neg_data_train = neg_data_train.reshape((neg_data_train.shape[0], neg_data_train.shape[1], 1))\n",
    "uncertain_data_train = uncertain_data_train.reshape((uncertain_data_train.shape[0], uncertain_data_train.shape[1], 1))\n",
    "lit_data_train = lit_data_train.reshape((lit_data_train.shape[0], lit_data_train.shape[1], 1))\n",
    "mw_data_train = mw_data_train.reshape((mw_data_train.shape[0], mw_data_train.shape[1], 1))\n",
    "mm_data_train = mm_data_train.reshape((mm_data_train.shape[0], mm_data_train.shape[1], 1))\n",
    "ms_data_train = ms_data_train.reshape((ms_data_train.shape[0], ms_data_train.shape[1], 1))\n",
    "constrain_data_train = constrain_data_train.reshape((constrain_data_train.shape[0], constrain_data_train.shape[1], 1))\n",
    "\n",
    "\n",
    "\n",
    "\n",
    "\n",
    "################\n",
    "###################### TESTING DATA\n",
    "#############\n",
    "# Reshaping testing data: Dimension representations=(samples, time steps, features)\n",
    "X_test = X_test.reshape((X_test.shape[0], X_test.shape[1], 1))\n",
    "volume_data_test = volume_data_test.reshape((volume_data_test.shape[0], volume_data_test.shape[1], 1))\n",
    "VIX_data_test = VIX_data_test.reshape((VIX_data_test.shape[0], VIX_data_test.shape[1], 1))\n",
    "beta_data_test = beta_data_test.reshape((beta_data_test.shape[0], beta_data_test.shape[1], 1))\n",
    "\n",
    "\n",
    "\n",
    "#Testing Data for Sentiment Features\n",
    "pos_data_test = pos_data_test.reshape((pos_data_test.shape[0], pos_data_test.shape[1], 1))\n",
    "neg_data_test = neg_data_test.reshape((neg_data_test.shape[0], neg_data_test.shape[1], 1))\n",
    "uncertain_data_test = uncertain_data_test.reshape((uncertain_data_test.shape[0], uncertain_data_test.shape[1], 1))\n",
    "lit_data_test = lit_data_test.reshape((lit_data_test.shape[0], lit_data_test.shape[1], 1))\n",
    "mw_data_test = mw_data_test.reshape((mw_data_test.shape[0], mw_data_test.shape[1], 1))\n",
    "mm_data_test = mm_data_test.reshape((mm_data_test.shape[0], mm_data_test.shape[1], 1))\n",
    "ms_data_test = ms_data_test.reshape((ms_data_test.shape[0], ms_data_test.shape[1], 1))\n",
    "constrain_data_test = constrain_data_test.reshape((constrain_data_test.shape[0], constrain_data_test.shape[1], 1))\n",
    "\n",
    "\n",
    "#################################################    FOR THE PARTIAL MODEL.     #############################################################\n",
    "# Train data used for Partial Model\n",
    "data_train_partial = np.concatenate((X_train,volume_data_train,VIX_data_train,beta_data_train),\n",
    " axis=2)               # stacking training layers in third dimension\n",
    "\n",
    "\n",
    "\n",
    "# Train data used for Partial Model\n",
    "data_test_partial = np.concatenate((X_test,volume_data_test,VIX_data_test,beta_data_test), axis=2) \n",
    "\n",
    "\n",
    "#################################################    FOR THE FULL MODEL.     #############################################################\n",
    "# Train data used for Full Model\n",
    "data_train_full = np.concatenate((X_train,volume_data_train,VIX_data_train,beta_data_train,\n",
    "                            pos_data_train,neg_data_train,uncertain_data_train,lit_data_train,\n",
    "                            mw_data_train,mm_data_train,ms_data_train,constrain_data_train), axis=2)               # stacking training layers in third dimension\n",
    "\n",
    "\n",
    "\n",
    "# Test data used for Full Model\n",
    "data_test_full = np.concatenate((X_test,volume_data_test,VIX_data_test,beta_data_test,\n",
    "                           pos_data_test,neg_data_test,uncertain_data_test,lit_data_test,\n",
    "                           mw_data_test,mm_data_test,ms_data_test,constrain_data_test), axis=2)               # stacking testing layers in third dimension\n",
    "X_train.shape                                                                                                 # checking shape of training data tensor"
   ]
  },
  {
   "cell_type": "markdown",
   "metadata": {},
   "source": [
    "### RESHAPING DATA IN THE FOURTH DIMENSION\n",
    "#### To train a 2D CNN, the data must be reshaped into 4 dimensions. The 4th dimension represents the axis along which the data is fed into the NN \n",
    "#### We will train a neural network first using Close,Volume,VIX,Beta\n",
    "#### Lastly, training a neural network using previous mentioned features, as well as sentiment features"
   ]
  },
  {
   "cell_type": "code",
   "execution_count": 9,
   "metadata": {},
   "outputs": [
    {
     "data": {
      "text/plain": [
       "(985, 3, 12, 1)"
      ]
     },
     "execution_count": 9,
     "metadata": {},
     "output_type": "execute_result"
    }
   ],
   "source": [
    "# DATA USING ONLY CLOSE,VOLUME,VIX,BETA\n",
    "data_train_wide_partial = data_train_partial.reshape((X_train.shape[0], \n",
    "                                                      data_train_partial.shape[1], data_train_partial.shape[2], 1))  # reshaping training data into 4th dimension\n",
    "\n",
    "data_test_wide_partial = data_test_partial.reshape((data_test_partial.shape[0],\n",
    "                                                    data_test_partial.shape[1], data_test_partial.shape[2], 1))    # reshapiong test data into 4th dimension\n",
    "\n",
    "\n",
    "\n",
    "\n",
    "# DATA USING ALL FEATURES\n",
    "data_train_wide_full = data_train_full.reshape((X_train.shape[0],\n",
    "                                                data_train_full.shape[1], data_train_full.shape[2], 1))  # reshaping training data into 4th dimension\n",
    "\n",
    "data_test_wide_full = data_test_full.reshape((data_test_full.shape[0],\n",
    "                                              data_test_full.shape[1], data_test_full.shape[2], 1))    # reshapiong test data into 4th dimension\n",
    "\n",
    "\n",
    "\n",
    "data_train_wide_full.shape                                                                                  # confirms that we have 4-dimensional training data"
   ]
  },
  {
   "cell_type": "markdown",
   "metadata": {},
   "source": [
    "## DEFINING FUNCTION THAT CREATES 2D Convolutional NN Function; ORIGINAL FUNCTION PROVIDED BY MR. WALES"
   ]
  },
  {
   "cell_type": "code",
   "execution_count": 64,
   "metadata": {},
   "outputs": [],
   "source": [
    "def basic_conv2D(n_filters=24, fsize=5, window_size=5, n_features=2):\n",
    "    new_model = tf.keras.Sequential()\n",
    "    # Hypothetically, we could also tune the padding and activation here.\n",
    "    new_model.add(tf.keras.layers.Conv2D(2*n_filters, (1,fsize), padding=\"same\", activation=\"relu\", input_shape=(window_size, n_features, 1)))\n",
    "    #new_model.add(tf.keras.layers.Dropout(0.10))\n",
    "    #new_model.add(tf.keras.layers.MaxPooling2D((2, 2),padding='same'))\n",
    "    # Flatten will take our convolution filters and lay them out end to end so our dense layer can predict based on the outcomes of each\n",
    "    new_model.add(tf.keras.layers.Conv2D(n_filters, (1,fsize), padding=\"same\", activation=\"relu\", input_shape=(window_size, n_features, 1)))\n",
    "    #new_model.add(tf.keras.layers.MaxPooling2D((2, 2),padding='same'))\n",
    "    new_model.add(tf.keras.layers.Flatten())                                                              # flattening layer                                           \n",
    "    new_model.add(tf.keras.layers.Dense(1000, activation='linear'))                                         # Dense layer for learning\n",
    "    #new_model.add(tf.keras.layers.Dense(500))                                                             # Denser layer for learning\n",
    "    new_model.add(tf.keras.layers.Dense(100,activation='linear'))                                                             # Denser layer for learning\n",
    "    new_model.add(tf.keras.layers.Dense(1))                                                               # single ouput layer \n",
    "    new_model.compile(optimizer=\"adam\", loss=\"mean_squared_error\")                                        # defining optimizer and loss function\n",
    "    return new_model                                                                                      # returning the model"
   ]
  },
  {
   "cell_type": "markdown",
   "metadata": {},
   "source": [
    "### DEFINING THE NEURAL NETWORK AND COMPILING THE MODEL"
   ]
  },
  {
   "cell_type": "code",
   "execution_count": 65,
   "metadata": {},
   "outputs": [
    {
     "name": "stdout",
     "output_type": "stream",
     "text": [
      "Model: \"sequential_10\"\n",
      "_________________________________________________________________\n",
      "Layer (type)                 Output Shape              Param #   \n",
      "=================================================================\n",
      "conv2d_20 (Conv2D)           (None, 3, 4, 80)          320       \n",
      "_________________________________________________________________\n",
      "dropout_1 (Dropout)          (None, 3, 4, 80)          0         \n",
      "_________________________________________________________________\n",
      "conv2d_21 (Conv2D)           (None, 3, 4, 40)          9640      \n",
      "_________________________________________________________________\n",
      "flatten_10 (Flatten)         (None, 480)               0         \n",
      "_________________________________________________________________\n",
      "dense_32 (Dense)             (None, 1000)              481000    \n",
      "_________________________________________________________________\n",
      "dense_33 (Dense)             (None, 100)               100100    \n",
      "_________________________________________________________________\n",
      "dense_34 (Dense)             (None, 1)                 101       \n",
      "=================================================================\n",
      "Total params: 591,161\n",
      "Trainable params: 591,161\n",
      "Non-trainable params: 0\n",
      "_________________________________________________________________\n"
     ]
    }
   ],
   "source": [
    "model = basic_conv2D(n_filters=40, fsize=3, window_size=window_size, n_features=data_train_wide_partial.shape[2]) # defining the parameters of the model\n",
    "model.compile(optimizer=\"adam\", loss=\"mean_squared_error\")                                                # compiling the model\n",
    "model.summary()                                                                                           # gives summary constructed model"
   ]
  },
  {
   "cell_type": "code",
   "execution_count": 66,
   "metadata": {},
   "outputs": [
    {
     "name": "stdout",
     "output_type": "stream",
     "text": [
      "Epoch 1/40\n",
      "25/25 [==============================] - 1s 10ms/step - loss: 869871.4471\n",
      "Epoch 2/40\n",
      "25/25 [==============================] - 0s 10ms/step - loss: 650765.3774\n",
      "Epoch 3/40\n",
      "25/25 [==============================] - 0s 11ms/step - loss: 364270.3678\n",
      "Epoch 4/40\n",
      "25/25 [==============================] - 0s 12ms/step - loss: 337075.2314\n",
      "Epoch 5/40\n",
      "25/25 [==============================] - 0s 10ms/step - loss: 317512.6869\n",
      "Epoch 6/40\n",
      "25/25 [==============================] - 0s 14ms/step - loss: 179553.8401\n",
      "Epoch 7/40\n",
      "25/25 [==============================] - 0s 16ms/step - loss: 60854.1612\n",
      "Epoch 8/40\n",
      "25/25 [==============================] - 0s 17ms/step - loss: 30960.1813\n",
      "Epoch 9/40\n",
      "25/25 [==============================] - 0s 11ms/step - loss: 24646.3921\n",
      "Epoch 10/40\n",
      "25/25 [==============================] - 0s 10ms/step - loss: 26740.5841\n",
      "Epoch 11/40\n",
      "25/25 [==============================] - 0s 11ms/step - loss: 28398.2647\n",
      "Epoch 12/40\n",
      "25/25 [==============================] - 0s 10ms/step - loss: 19485.7381\n",
      "Epoch 13/40\n",
      "25/25 [==============================] - 0s 11ms/step - loss: 14136.1919\n",
      "Epoch 14/40\n",
      "25/25 [==============================] - 0s 11ms/step - loss: 11601.0598\n",
      "Epoch 15/40\n",
      "25/25 [==============================] - 0s 11ms/step - loss: 10485.3611\n",
      "Epoch 16/40\n",
      "25/25 [==============================] - 0s 11ms/step - loss: 12141.6698\n",
      "Epoch 17/40\n",
      "25/25 [==============================] - 0s 14ms/step - loss: 11267.7205\n",
      "Epoch 18/40\n",
      "25/25 [==============================] - 0s 14ms/step - loss: 11352.5649\n",
      "Epoch 19/40\n",
      "25/25 [==============================] - 0s 11ms/step - loss: 14169.7646\n",
      "Epoch 20/40\n",
      "25/25 [==============================] - 0s 11ms/step - loss: 13155.5156\n",
      "Epoch 21/40\n",
      "25/25 [==============================] - 0s 11ms/step - loss: 12995.5642\n",
      "Epoch 22/40\n",
      "25/25 [==============================] - 0s 15ms/step - loss: 12844.7624\n",
      "Epoch 23/40\n",
      "25/25 [==============================] - 0s 19ms/step - loss: 9939.1454\n",
      "Epoch 24/40\n",
      "25/25 [==============================] - 0s 19ms/step - loss: 8238.2049\n",
      "Epoch 25/40\n",
      "25/25 [==============================] - 0s 12ms/step - loss: 5575.8683\n",
      "Epoch 26/40\n",
      "25/25 [==============================] - 0s 12ms/step - loss: 4425.4581\n",
      "Epoch 27/40\n",
      "25/25 [==============================] - 0s 12ms/step - loss: 7641.4474\n",
      "Epoch 28/40\n",
      "25/25 [==============================] - 0s 11ms/step - loss: 15444.8930\n",
      "Epoch 29/40\n",
      "25/25 [==============================] - 0s 12ms/step - loss: 38622.4712\n",
      "Epoch 30/40\n",
      "25/25 [==============================] - 0s 12ms/step - loss: 72530.4550\n",
      "Epoch 31/40\n",
      "25/25 [==============================] - 0s 18ms/step - loss: 111319.7137\n",
      "Epoch 32/40\n",
      "25/25 [==============================] - 1s 19ms/step - loss: 123638.6181\n",
      "Epoch 33/40\n",
      "25/25 [==============================] - 0s 15ms/step - loss: 40067.0815\n",
      "Epoch 34/40\n",
      "25/25 [==============================] - 0s 12ms/step - loss: 91502.0256\n",
      "Epoch 35/40\n",
      "25/25 [==============================] - 0s 11ms/step - loss: 222891.0018\n",
      "Epoch 36/40\n",
      "25/25 [==============================] - 0s 12ms/step - loss: 203179.3110\n",
      "Epoch 37/40\n",
      "25/25 [==============================] - 0s 11ms/step - loss: 14904.3328\n",
      "Epoch 38/40\n",
      "25/25 [==============================] - 0s 12ms/step - loss: 15807.4879\n",
      "Epoch 39/40\n",
      "25/25 [==============================] - 0s 12ms/step - loss: 14396.1370\n",
      "Epoch 40/40\n",
      "25/25 [==============================] - 0s 12ms/step - loss: 32167.4702\n"
     ]
    }
   ],
   "source": [
    "# Fitting the model\n",
    "hist=model.fit(data_train_wide_partial, y_train, epochs=40, shuffle=False, verbose=1,batch_size=40)           # begin training of NN, with training data and specified e"
   ]
  },
  {
   "cell_type": "code",
   "execution_count": 67,
   "metadata": {},
   "outputs": [
    {
     "data": {
      "image/png": "[encoded data removed]",
      "text/plain": [
       "<Figure size 432x288 with 1 Axes>"
      ]
     },
     "metadata": {
      "needs_background": "light"
     },
     "output_type": "display_data"
    }
   ],
   "source": [
    "plt.plot(hist.history[\"loss\"])\n",
    "plt.title(\"Loss Function\")\n",
    "plt.legend([\"loss\"])\n",
    "plt.show()\n",
    "#predicted = model.predict(X_test)                                                                         # making predictions using test data\n",
    "#predicted_prices = scaler.inverse_transform(predicted)                                                    # Recover the original prices instead of the scaled version"
   ]
  },
  {
   "cell_type": "code",
   "execution_count": 68,
   "metadata": {},
   "outputs": [
    {
     "name": "stdout",
     "output_type": "stream",
     "text": [
      "8/8 [==============================] - 0s 3ms/step - loss: 63143.9609\n"
     ]
    },
    {
     "data": {
      "text/plain": [
       "63143.9609375"
      ]
     },
     "execution_count": 68,
     "metadata": {},
     "output_type": "execute_result"
    }
   ],
   "source": [
    "# Create a DataFrame of Real and Predicted values\n",
    "predictions = model.predict(data_test_wide_partial)\n",
    "conv_acc_df = pd.DataFrame()\n",
    "conv_acc_df['Actual'] = y_test[:,0]\n",
    "conv_acc_df['Predict'] = predictions[:,0]\n",
    "conv_acc_df.head(10)\n",
    "\n",
    "model.evaluate(data_test_wide_partial, y_test)                                                                            # evaluating performance of the model"
   ]
  },
  {
   "cell_type": "markdown",
   "metadata": {},
   "source": [
    "## Plotting Real and Predicted Values of Conv 2D NN"
   ]
  },
  {
   "cell_type": "code",
   "execution_count": 69,
   "metadata": {},
   "outputs": [
    {
     "data": {
      "text/plain": [
       "<matplotlib.axes._subplots.AxesSubplot at 0x7fe54e9d9e10>"
      ]
     },
     "execution_count": 69,
     "metadata": {},
     "output_type": "execute_result"
    },
    {
     "data": {
      "image/png": "[encoded data removed]",
      "text/plain": [
       "<Figure size 1440x720 with 1 Axes>"
      ]
     },
     "metadata": {
      "needs_background": "light"
     },
     "output_type": "display_data"
    }
   ],
   "source": [
    "# Plot the real vs predicted prices as a line chart\n",
    "#stocks.plot(title=\"Multivariate Multistep LSTM RNN\")\n",
    "conv_acc_df.plot(figsize=(20,10),title=\"Plotting Predicted vs. Actual Prices uses Mutlivariate Convolutional 2D Neural Network: AMZN\",fontsize=14,linewidth=1.4)"
   ]
  },
  {
   "cell_type": "markdown",
   "metadata": {},
   "source": [
    "## Saving the Model for Future Use"
   ]
  },
  {
   "cell_type": "code",
   "execution_count": 108,
   "metadata": {},
   "outputs": [],
   "source": [
    "#model.save('MV-MT-LSTM-RNN')"
   ]
  },
  {
   "cell_type": "markdown",
   "metadata": {},
   "source": [
    "# Running the Full Model; Includes Sentiment Scores"
   ]
  },
  {
   "cell_type": "code",
   "execution_count": 330,
   "metadata": {},
   "outputs": [],
   "source": [
    "def full_model_conv2D(n_filters=24, fsize=5, window_size=5, n_features=2):\n",
    "    new_model = tf.keras.Sequential()\n",
    "    # Hypothetically, we could also tune the padding and activation here.\n",
    "    new_model.add(tf.keras.layers.Conv2D(5*n_filters, (1,fsize), padding=\"same\", activation=\"tanh\", input_shape=(window_size, n_features, 1)))\n",
    "    #new_model.add(tf.keras.layers.Dropout(0.1))\n",
    "    new_model.add(tf.keras.layers.MaxPooling2D((3, 3),padding='same'))\n",
    "    # Flatten will take our convolution filters and lay them out end to end so our dense layer can predict based on the outcomes of each\n",
    "    new_model.add(tf.keras.layers.Conv2D(4*n_filters, (1,fsize), padding=\"same\", activation=\"relu\", input_shape=(window_size, n_features, 1)))\n",
    "    #new_model.add(tf.keras.layers.MaxPooling2D((2, 2),padding='same'))\n",
    "    new_model.add(tf.keras.layers.Dropout(0.1))\n",
    "    new_model.add(tf.keras.layers.Conv2D(3*n_filters, (1,fsize), padding=\"same\", activation=\"relu\", input_shape=(window_size, n_features, 1)))\n",
    "    new_model.add(tf.keras.layers.Dropout(0.1))\n",
    "    new_model.add(tf.keras.layers.Flatten())                                                              # flattening layer                                           \n",
    "    new_model.add(tf.keras.layers.Dense(1000, activation='relu'))                                         # Dense layer for learning\n",
    "    new_model.add(tf.keras.layers.Dense(500))                                                             # Denser layer for learning\n",
    "    new_model.add(tf.keras.layers.Dense(150,activation='relu'))                                                             # Denser layer for learning\n",
    "    new_model.add(tf.keras.layers.Dense(1))                                                               # single ouput layer \n",
    "    new_model.compile(optimizer=\"adam\", loss=\"mean_squared_error\")                                        # defining optimizer and loss function\n",
    "    return new_model                                                                                      # returning the model"
   ]
  },
  {
   "cell_type": "markdown",
   "metadata": {},
   "source": [
    "## Defining Parameters for Full Model"
   ]
  },
  {
   "cell_type": "code",
   "execution_count": 331,
   "metadata": {},
   "outputs": [
    {
     "name": "stdout",
     "output_type": "stream",
     "text": [
      "Model: \"sequential_49\"\n",
      "_________________________________________________________________\n",
      "Layer (type)                 Output Shape              Param #   \n",
      "=================================================================\n",
      "conv2d_114 (Conv2D)          (None, 3, 12, 200)        1000      \n",
      "_________________________________________________________________\n",
      "max_pooling2d_75 (MaxPooling (None, 1, 4, 200)         0         \n",
      "_________________________________________________________________\n",
      "conv2d_115 (Conv2D)          (None, 1, 4, 160)         128160    \n",
      "_________________________________________________________________\n",
      "dropout_61 (Dropout)         (None, 1, 4, 160)         0         \n",
      "_________________________________________________________________\n",
      "conv2d_116 (Conv2D)          (None, 1, 4, 120)         76920     \n",
      "_________________________________________________________________\n",
      "dropout_62 (Dropout)         (None, 1, 4, 120)         0         \n",
      "_________________________________________________________________\n",
      "flatten_49 (Flatten)         (None, 480)               0         \n",
      "_________________________________________________________________\n",
      "dense_196 (Dense)            (None, 1000)              481000    \n",
      "_________________________________________________________________\n",
      "dense_197 (Dense)            (None, 500)               500500    \n",
      "_________________________________________________________________\n",
      "dense_198 (Dense)            (None, 150)               75150     \n",
      "_________________________________________________________________\n",
      "dense_199 (Dense)            (None, 1)                 151       \n",
      "=================================================================\n",
      "Total params: 1,262,881\n",
      "Trainable params: 1,262,881\n",
      "Non-trainable params: 0\n",
      "_________________________________________________________________\n"
     ]
    }
   ],
   "source": [
    "model_full = full_model_conv2D(n_filters=40, fsize=4, window_size=window_size, n_features=data_train_wide_full.shape[2]) # defining the parameters of the model\n",
    "model_full.compile(optimizer=\"adam\", loss=\"mean_squared_error\")                                                # compiling the model\n",
    "model_full.summary()                                                                                           # gives summary constructed model"
   ]
  },
  {
   "cell_type": "markdown",
   "metadata": {},
   "source": [
    "### Fitting the Full Model"
   ]
  },
  {
   "cell_type": "code",
   "execution_count": 332,
   "metadata": {},
   "outputs": [
    {
     "name": "stdout",
     "output_type": "stream",
     "text": [
      "Epoch 1/20\n",
      "20/20 [==============================] - 1s 26ms/step - loss: 1131.9068\n",
      "Epoch 2/20\n",
      "20/20 [==============================] - 1s 24ms/step - loss: 696.1865\n",
      "Epoch 3/20\n",
      "20/20 [==============================] - 0s 23ms/step - loss: 382.5981\n",
      "Epoch 4/20\n",
      "20/20 [==============================] - 0s 24ms/step - loss: 227.0811\n",
      "Epoch 5/20\n",
      "20/20 [==============================] - 0s 22ms/step - loss: 176.8096\n",
      "Epoch 6/20\n",
      "20/20 [==============================] - 0s 24ms/step - loss: 147.9769\n",
      "Epoch 7/20\n",
      "20/20 [==============================] - 0s 24ms/step - loss: 96.2186\n",
      "Epoch 8/20\n",
      "20/20 [==============================] - 0s 24ms/step - loss: 33.8749\n",
      "Epoch 9/20\n",
      "20/20 [==============================] - 1s 37ms/step - loss: 19.9390\n",
      "Epoch 10/20\n",
      "20/20 [==============================] - 1s 28ms/step - loss: 12.1314\n",
      "Epoch 11/20\n",
      "20/20 [==============================] - 1s 26ms/step - loss: 13.4897\n",
      "Epoch 12/20\n",
      "20/20 [==============================] - 1s 26ms/step - loss: 10.4816\n",
      "Epoch 13/20\n",
      "20/20 [==============================] - 1s 27ms/step - loss: 10.2846\n",
      "Epoch 14/20\n",
      "20/20 [==============================] - 1s 27ms/step - loss: 7.4916\n",
      "Epoch 15/20\n",
      "20/20 [==============================] - 1s 27ms/step - loss: 7.0298\n",
      "Epoch 16/20\n",
      "20/20 [==============================] - 0s 23ms/step - loss: 5.8496\n",
      "Epoch 17/20\n",
      "20/20 [==============================] - 1s 26ms/step - loss: 6.5879\n",
      "Epoch 18/20\n",
      "20/20 [==============================] - 1s 29ms/step - loss: 6.0838\n",
      "Epoch 19/20\n",
      "20/20 [==============================] - 1s 29ms/step - loss: 7.1385\n",
      "Epoch 20/20\n",
      "20/20 [==============================] - 1s 29ms/step - loss: 8.9021\n"
     ]
    }
   ],
   "source": [
    "hist=model_full.fit(data_train_wide_full, y_train, epochs=20, shuffle=False, verbose=1,batch_size=50)     "
   ]
  },
  {
   "cell_type": "markdown",
   "metadata": {},
   "source": [
    "## Plotting the Loss from full Model"
   ]
  },
  {
   "cell_type": "code",
   "execution_count": 333,
   "metadata": {},
   "outputs": [
    {
     "data": {
      "image/png": "[encoded data removed]",
      "text/plain": [
       "<Figure size 432x288 with 1 Axes>"
      ]
     },
     "metadata": {
      "needs_background": "light"
     },
     "output_type": "display_data"
    }
   ],
   "source": [
    "plt.plot(hist.history[\"loss\"])\n",
    "plt.title(\"Loss Function\")\n",
    "plt.legend([\"loss\"])\n",
    "plt.show()"
   ]
  },
  {
   "cell_type": "markdown",
   "metadata": {},
   "source": [
    "## Create DataFrame of Real and Predicted Values for the Model"
   ]
  },
  {
   "cell_type": "code",
   "execution_count": 334,
   "metadata": {},
   "outputs": [
    {
     "name": "stdout",
     "output_type": "stream",
     "text": [
      "8/8 [==============================] - 0s 5ms/step - loss: 530.4244\n"
     ]
    },
    {
     "data": {
      "text/plain": [
       "530.4244384765625"
      ]
     },
     "execution_count": 334,
     "metadata": {},
     "output_type": "execute_result"
    }
   ],
   "source": [
    "# Create a DataFrame of Real and Predicted values\n",
    "predictions = model_full.predict(data_test_wide_full)\n",
    "conv_acc_df_full = pd.DataFrame()\n",
    "conv_acc_df_full['Actual'] = y_test[:,0]\n",
    "conv_acc_df_full['Predict'] = predictions[:,0]\n",
    "conv_acc_df_full.head(10)\n",
    "\n",
    "model_full.evaluate(data_test_wide_full, y_test)      "
   ]
  },
  {
   "cell_type": "markdown",
   "metadata": {},
   "source": [
    "## Plotting the Results of the Full Model (Additional Convolutional Layer, Droupout Layers, increased epochs and batch size)"
   ]
  },
  {
   "cell_type": "code",
   "execution_count": null,
   "metadata": {},
   "outputs": [
    {
     "data": {
      "text/plain": [
       "<matplotlib.axes._subplots.AxesSubplot at 0x7faf685b5210>"
      ]
     },
     "execution_count": 335,
     "metadata": {},
     "output_type": "execute_result"
    }
   ],
   "source": [
    "# Plot the real vs predicted prices as a line chart\n",
    "#stocks.plot(title=\"Multivariate Multistep LSTM RNN\")\n",
    "conv_acc_df_full.plot(figsize=(20,10),title=\"Plotting Predicted vs. Actual Prices uses Mutlivariate Convolutional 2D Neural Network: AAPL\",fontsize=14,linewidth=1.4)"
   ]
  },
  {
   "cell_type": "code",
   "execution_count": null,
   "metadata": {},
   "outputs": [],
   "source": []
  }
 ],
 "metadata": {
  "kernelspec": {
   "display_name": "Python [conda env:pyvizenv]",
   "language": "python",
   "name": "conda-env-pyvizenv-py"
  },
  "language_info": {
   "codemirror_mode": {
    "name": "ipython",
    "version": 3
   },
   "file_extension": ".py",
   "mimetype": "text/x-python",
   "name": "python",
   "nbconvert_exporter": "python",
   "pygments_lexer": "ipython3",
   "version": "3.7.7"
  }
 },
 "nbformat": 4,
 "nbformat_minor": 4
}
