{
 "cells": [
  {
   "cell_type": "markdown",
   "metadata": {},
   "source": [
    "# Training a 2-D, Multivariate Convolution Neural Network\n",
    "### The Necessary Imports"
   ]
  },
  {
   "cell_type": "code",
   "execution_count": 2,
   "metadata": {},
   "outputs": [],
   "source": [
    "# Initial imports\n",
    "import numpy as np                                                   # for numpy tools\n",
    "import pandas as pd                                                  # for DataFrame tools\n",
    "from pathlib import Path                                             # for writing paths to data files\n",
    "from TBAC  import StockScrub, VIX_update                             # This line tells python to import the class. Class file should be in same directory as code file\n",
    "import matplotlib.pyplot as plt\n",
    "%matplotlib inline\n",
    "import quandl\n",
    "import requests\n",
    "import json\n",
    "import os\n",
    "from GoogleNews import GoogleNews"
   ]
  },
  {
   "cell_type": "code",
   "execution_count": 3,
   "metadata": {},
   "outputs": [],
   "source": [
    "# Set the random seed for reproducibility\n",
    "# Note: This is used for model prototyping, but it is good practice to comment this out and run multiple experiments to evaluate your model.\n",
    "from numpy.random import seed\n",
    "seed(1)\n",
    "from tensorflow import random\n",
    "random.set_seed(2)"
   ]
  },
  {
   "cell_type": "markdown",
   "metadata": {},
   "source": [
    "## Reading in the Data Set"
   ]
  },
  {
   "cell_type": "code",
   "execution_count": 6,
   "metadata": {},
   "outputs": [
    {
     "data": {
      "text/html": [
       "<div>\n",
       "<style scoped>\n",
       "    .dataframe tbody tr th:only-of-type {\n",
       "        vertical-align: middle;\n",
       "    }\n",
       "\n",
       "    .dataframe tbody tr th {\n",
       "        vertical-align: top;\n",
       "    }\n",
       "\n",
       "    .dataframe thead th {\n",
       "        text-align: right;\n",
       "    }\n",
       "</style>\n",
       "<table border=\"1\" class=\"dataframe\">\n",
       "  <thead>\n",
       "    <tr style=\"text-align: right;\">\n",
       "      <th></th>\n",
       "      <th>close</th>\n",
       "      <th>volume</th>\n",
       "      <th>VIX close</th>\n",
       "    </tr>\n",
       "    <tr>\n",
       "      <th>date</th>\n",
       "      <th></th>\n",
       "      <th></th>\n",
       "      <th></th>\n",
       "    </tr>\n",
       "  </thead>\n",
       "  <tbody>\n",
       "    <tr>\n",
       "      <th>2018-01-02</th>\n",
       "      <td>41.440086</td>\n",
       "      <td>25048048.0</td>\n",
       "      <td>10.90</td>\n",
       "    </tr>\n",
       "    <tr>\n",
       "      <th>2018-01-03</th>\n",
       "      <td>41.432869</td>\n",
       "      <td>28819653.0</td>\n",
       "      <td>10.70</td>\n",
       "    </tr>\n",
       "    <tr>\n",
       "      <th>2018-01-04</th>\n",
       "      <td>41.625323</td>\n",
       "      <td>22211345.0</td>\n",
       "      <td>10.60</td>\n",
       "    </tr>\n",
       "    <tr>\n",
       "      <th>2018-01-05</th>\n",
       "      <td>42.099240</td>\n",
       "      <td>23016177.0</td>\n",
       "      <td>10.50</td>\n",
       "    </tr>\n",
       "    <tr>\n",
       "      <th>2018-01-08</th>\n",
       "      <td>41.942872</td>\n",
       "      <td>20134092.0</td>\n",
       "      <td>10.49</td>\n",
       "    </tr>\n",
       "  </tbody>\n",
       "</table>\n",
       "</div>"
      ],
      "text/plain": [
       "                close      volume  VIX close\n",
       "date                                        \n",
       "2018-01-02  41.440086  25048048.0      10.90\n",
       "2018-01-03  41.432869  28819653.0      10.70\n",
       "2018-01-04  41.625323  22211345.0      10.60\n",
       "2018-01-05  42.099240  23016177.0      10.50\n",
       "2018-01-08  41.942872  20134092.0      10.49"
      ]
     },
     "execution_count": 6,
     "metadata": {},
     "output_type": "execute_result"
    }
   ],
   "source": [
    "apple=StockScrub([\"AAPL\"])                                                      # creating StockScrub class object for Apple stock analysis\n",
    "df=apple.data_compile(start=\"2018-01-01\")                                       # combines data from stored DataFrames to be processed for training\n",
    "df.head()                                                                       # printing first few rows of DataFrame"
   ]
  },
  {
   "cell_type": "code",
   "execution_count": 7,
   "metadata": {},
   "outputs": [],
   "source": [
    "def window_data_mv(df, window, feature1,feature2, target_col_number):\n",
    "    \"\"\"\n",
    "    This function accepts the column numbers for the features (X) and the target (y).\n",
    "    It chunks the data up with a rolling window of Xt - window to predict Xt.\n",
    "    It returns two numpy arrays of X and y.\n",
    "    \"\"\"\n",
    "    X = []                                                                      # initialize DataFrame for features\n",
    "    y = []                                                                      # initialize DataFrame for target\n",
    "    for i in range(len(df) - window):                                           # generates list of indices from start until prior number of steps equal to the window\n",
    "        features = df.iloc[i : (i + window),feature1:feature2].values                # extracting vectors from DataFrame for features\n",
    "        target = df.iloc[(i + window), target_col_number]                       # extracting observations from DataFrame for targets\n",
    "        X.append(features)                                                      # appending extracted vectors to new DataFrame\n",
    "        y.append(target)                                                        # appeding extracted observations to new DataFrame\n",
    "    return np.array(X), np.array(y).reshape(-1, 1)                              # converting DataFrames to numpy arrays"
   ]
  },
  {
   "cell_type": "code",
   "execution_count": 8,
   "metadata": {},
   "outputs": [
    {
     "data": {
      "text/plain": [
       "(747, 7, 3)"
      ]
     },
     "execution_count": 8,
     "metadata": {},
     "output_type": "execute_result"
    }
   ],
   "source": [
    "# Creating the features (X) and target (y) data using the window_data() function.\n",
    "window_size = 7                                                                 # Size of window (can adjust for different trials)\n",
    "\n",
    "feature1=0                                                                      # defining the column where you want to extract features\n",
    "feature2=3\n",
    "target_column = 0                                                               # defining the column where you want to extract targets\n",
    "X, y = window_data_mv(df, window_size, feature1, feature2, target_column)              # splitting DataFrame into features and targets\n",
    "X.shape"
   ]
  },
  {
   "cell_type": "code",
   "execution_count": 12,
   "metadata": {},
   "outputs": [],
   "source": [
    "from sklearn.preprocessing import StandardScaler                                # importing the StandardScaler\n",
    "scaler = StandardScaler()                                                       # create an instance to scale the data\n",
    "X=scaler.fit_transform(X.reshape(-1, X.shape[-1])).reshape(X.shape)             #standardize the feature data\n",
    "split = int(0.8 * len(X))                                                       # specifying 80% split for train-test data\n",
    "X_train = X[: split - 1]                                                       \n",
    "X_test = X[split:]\n",
    "y_train = y[: split - 1]\n",
    "y_test = y[split:]"
   ]
  },
  {
   "cell_type": "code",
   "execution_count": 15,
   "metadata": {},
   "outputs": [
    {
     "data": {
      "text/plain": [
       "(596, 7, 3)"
      ]
     },
     "execution_count": 15,
     "metadata": {},
     "output_type": "execute_result"
    }
   ],
   "source": [
    "# Reshape the features for the model: Dimension representations=(samples, time steps, features)\n",
    "X_train = X_train.reshape((X_train.shape[0], X_train.shape[1], 3))\n",
    "X_test = X_test.reshape((X_test.shape[0], X_test.shape[1], 3))\n",
    "X_train.shape                                                                   # checking shape of training data tensor"
   ]
  },
  {
   "cell_type": "code",
   "execution_count": 122,
   "metadata": {},
   "outputs": [],
   "source": [
    "# Import required Keras modules\n",
    "from tensorflow.keras.models import Sequential                                    # for building neural networks\n",
    "from tensorflow.keras.layers import LSTM, Dense, Dropout                          # components for LSTM NN"
   ]
  },
  {
   "cell_type": "code",
   "execution_count": 123,
   "metadata": {},
   "outputs": [],
   "source": [
    "# Define the LSTM RNN model.\n",
    "model = Sequential()                                                              # Initializing NN\n",
    "\n",
    "number_units = 7                                                                \n",
    "dropout_fraction = 0.2\n",
    "\n",
    "# Layer 1\n",
    "model.add(LSTM(\n",
    "    units=number_units,\n",
    "    return_sequences=True,\n",
    "    input_shape=(X_train.shape[1], 3))\n",
    "    )\n",
    "model.add(Dropout(dropout_fraction))\n",
    "# Layer 2\n",
    "model.add(LSTM(units=number_units, return_sequences=True))\n",
    "model.add(Dropout(dropout_fraction))\n",
    "# Layer 3\n",
    "model.add(LSTM(units=number_units))\n",
    "model.add(Dropout(dropout_fraction))\n",
    "# Output layer\n",
    "model.add(Dense(1))"
   ]
  },
  {
   "cell_type": "code",
   "execution_count": 124,
   "metadata": {},
   "outputs": [],
   "source": [
    "# Compile the model\n",
    "model.compile(optimizer=\"adam\", loss=\"mean_squared_error\")"
   ]
  },
  {
   "cell_type": "code",
   "execution_count": 125,
   "metadata": {},
   "outputs": [
    {
     "name": "stdout",
     "output_type": "stream",
     "text": [
      "Model: \"sequential_6\"\n",
      "_________________________________________________________________\n",
      "Layer (type)                 Output Shape              Param #   \n",
      "=================================================================\n",
      "lstm_18 (LSTM)               (None, 7, 7)              308       \n",
      "_________________________________________________________________\n",
      "dropout_15 (Dropout)         (None, 7, 7)              0         \n",
      "_________________________________________________________________\n",
      "lstm_19 (LSTM)               (None, 7, 7)              420       \n",
      "_________________________________________________________________\n",
      "dropout_16 (Dropout)         (None, 7, 7)              0         \n",
      "_________________________________________________________________\n",
      "lstm_20 (LSTM)               (None, 7)                 420       \n",
      "_________________________________________________________________\n",
      "dropout_17 (Dropout)         (None, 7)                 0         \n",
      "_________________________________________________________________\n",
      "dense_6 (Dense)              (None, 1)                 8         \n",
      "=================================================================\n",
      "Total params: 1,156\n",
      "Trainable params: 1,156\n",
      "Non-trainable params: 0\n",
      "_________________________________________________________________\n"
     ]
    }
   ],
   "source": [
    "# Summarize the model\n",
    "model.summary()"
   ]
  },
  {
   "cell_type": "code",
   "execution_count": 126,
   "metadata": {},
   "outputs": [
    {
     "name": "stdout",
     "output_type": "stream",
     "text": [
      "Epoch 1/10\n",
      "10/10 [==============================] - 16s 39ms/step - loss: 3190.4955\n",
      "Epoch 2/10\n",
      "10/10 [==============================] - 0s 31ms/step - loss: 3177.0365\n",
      "Epoch 3/10\n",
      "10/10 [==============================] - 0s 31ms/step - loss: 3163.3450\n",
      "Epoch 4/10\n",
      "10/10 [==============================] - 0s 31ms/step - loss: 3147.6325\n",
      "Epoch 5/10\n",
      "10/10 [==============================] - 0s 30ms/step - loss: 3128.7321\n",
      "Epoch 6/10\n",
      "10/10 [==============================] - 0s 32ms/step - loss: 3103.2443\n",
      "Epoch 7/10\n",
      "10/10 [==============================] - 0s 28ms/step - loss: 3072.9832\n",
      "Epoch 8/10\n",
      "10/10 [==============================] - 0s 29ms/step - loss: 3029.9385\n",
      "Epoch 9/10\n",
      "10/10 [==============================] - 0s 33ms/step - loss: 2985.9707\n",
      "Epoch 10/10\n",
      "10/10 [==============================] - 0s 35ms/step - loss: 2946.4597\n"
     ]
    }
   ],
   "source": [
    "# Train the model\n",
    "#pipeline=Pipeline([('scale',scaler),('mod',model)])\n",
    "history=model.fit(X_train, y_train, epochs=10, shuffle=False, verbose=1)"
   ]
  },
  {
   "cell_type": "code",
   "execution_count": 127,
   "metadata": {},
   "outputs": [
    {
     "name": "stdout",
     "output_type": "stream",
     "text": [
      "5/5 [==============================] - 3s 9ms/step - loss: 12716.0391\n"
     ]
    },
    {
     "data": {
      "text/plain": [
       "12716.0390625"
      ]
     },
     "execution_count": 127,
     "metadata": {},
     "output_type": "execute_result"
    }
   ],
   "source": [
    "# Evaluate the model\n",
    "model.evaluate(X_test, y_test)"
   ]
  },
  {
   "cell_type": "code",
   "execution_count": 128,
   "metadata": {},
   "outputs": [],
   "source": [
    "# Make some predictions\n",
    "predicted = model.predict(X_test)"
   ]
  },
  {
   "cell_type": "code",
   "execution_count": 129,
   "metadata": {},
   "outputs": [],
   "source": [
    "# Recover the original prices instead of the scaled version\n",
    "predicted_prices = scaler.inverse_transform(predicted)\n",
    "real_prices = scaler.inverse_transform(y_test.reshape(-1, 1))"
   ]
  },
  {
   "cell_type": "code",
   "execution_count": 130,
   "metadata": {},
   "outputs": [
    {
     "data": {
      "text/html": [
       "<div>\n",
       "<style scoped>\n",
       "    .dataframe tbody tr th:only-of-type {\n",
       "        vertical-align: middle;\n",
       "    }\n",
       "\n",
       "    .dataframe tbody tr th {\n",
       "        vertical-align: top;\n",
       "    }\n",
       "\n",
       "    .dataframe thead th {\n",
       "        text-align: right;\n",
       "    }\n",
       "</style>\n",
       "<table border=\"1\" class=\"dataframe\">\n",
       "  <thead>\n",
       "    <tr style=\"text-align: right;\">\n",
       "      <th></th>\n",
       "      <th>Real</th>\n",
       "      <th>Predicted</th>\n",
       "    </tr>\n",
       "    <tr>\n",
       "      <th>date</th>\n",
       "      <th></th>\n",
       "      <th></th>\n",
       "    </tr>\n",
       "  </thead>\n",
       "  <tbody>\n",
       "    <tr>\n",
       "      <th>2020-06-29</th>\n",
       "      <td>8516.646082</td>\n",
       "      <td>258.007233</td>\n",
       "    </tr>\n",
       "    <tr>\n",
       "      <th>2020-06-30</th>\n",
       "      <td>8587.383627</td>\n",
       "      <td>258.007233</td>\n",
       "    </tr>\n",
       "    <tr>\n",
       "      <th>2020-07-01</th>\n",
       "      <td>8571.221738</td>\n",
       "      <td>258.007233</td>\n",
       "    </tr>\n",
       "    <tr>\n",
       "      <th>2020-07-02</th>\n",
       "      <td>8571.221738</td>\n",
       "      <td>258.007233</td>\n",
       "    </tr>\n",
       "    <tr>\n",
       "      <th>2020-07-06</th>\n",
       "      <td>8799.362033</td>\n",
       "      <td>258.007233</td>\n",
       "    </tr>\n",
       "  </tbody>\n",
       "</table>\n",
       "</div>"
      ],
      "text/plain": [
       "                   Real   Predicted\n",
       "date                               \n",
       "2020-06-29  8516.646082  258.007233\n",
       "2020-06-30  8587.383627  258.007233\n",
       "2020-07-01  8571.221738  258.007233\n",
       "2020-07-02  8571.221738  258.007233\n",
       "2020-07-06  8799.362033  258.007233"
      ]
     },
     "execution_count": 130,
     "metadata": {},
     "output_type": "execute_result"
    }
   ],
   "source": [
    "# Create a DataFrame of Real and Predicted values\n",
    "stocks = pd.DataFrame({\n",
    "    \"Real\": real_prices.ravel(),\n",
    "    \"Predicted\": predicted_prices.ravel()\n",
    "    }, index = df.index[-len(real_prices): ])\n",
    "stocks.head()"
   ]
  },
  {
   "cell_type": "markdown",
   "metadata": {},
   "source": [
    "## Plotting Real and Predicted Values of MV-MS-LSTM RNN"
   ]
  },
  {
   "cell_type": "code",
   "execution_count": 131,
   "metadata": {},
   "outputs": [
    {
     "data": {
      "text/plain": [
       "<AxesSubplot:title={'center':'Multivariate Multistep LSTM RNN'}, xlabel='date'>"
      ]
     },
     "execution_count": 131,
     "metadata": {},
     "output_type": "execute_result"
    },
    {
     "data": {
      "image/png": "[encoded data removed]",
      "text/plain": [
       "<Figure size 432x288 with 1 Axes>"
      ]
     },
     "metadata": {
      "needs_background": "light"
     },
     "output_type": "display_data"
    }
   ],
   "source": [
    "# Plot the real vs predicted prices as a line chart\n",
    "stocks.plot(title=\"Multivariate Multistep LSTM RNN\")"
   ]
  },
  {
   "cell_type": "markdown",
   "metadata": {},
   "source": [
    "## Saving the Model for Future Use"
   ]
  },
  {
   "cell_type": "code",
   "execution_count": 108,
   "metadata": {},
   "outputs": [],
   "source": [
    "#model.save('MV-MT-LSTM-RNN')"
   ]
  },
  {
   "cell_type": "code",
   "execution_count": null,
   "metadata": {},
   "outputs": [],
   "source": []
  }
 ],
 "metadata": {
  "kernelspec": {
   "display_name": "Python [conda env:pyvizenv]",
   "language": "python",
   "name": "conda-env-pyvizenv-py"
  },
  "language_info": {
   "codemirror_mode": {
    "name": "ipython",
    "version": 3
   },
   "file_extension": ".py",
   "mimetype": "text/x-python",
   "name": "python",
   "nbconvert_exporter": "python",
   "pygments_lexer": "ipython3",
   "version": "3.7.7"
  }
 },
 "nbformat": 4,
 "nbformat_minor": 4
}
